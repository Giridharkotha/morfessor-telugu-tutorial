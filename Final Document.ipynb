{
 "cells": [
  {
   "cell_type": "markdown",
   "id": "574492a4-980c-4d1f-b651-ddee65912a71",
   "metadata": {},
   "source": [
    "   # Morfessor-Telugu-Tutorial \n"
   ]
  },
  {
   "cell_type": "markdown",
   "id": "472f02c0-e88b-4334-8f30-94dbcf1e680a",
   "metadata": {},
   "source": [
    "# Introduction\n",
    "\n",
    "Morphological segmentation is a fundamental task in Natural Language Processing (NLP) that involves breaking down words into their smallest meaning-bearing units called morphemes. This process is particularly important for morphologically rich languages like Telugu, where words are often formed by combining root words with multiple affixes. For example, the Telugu word \"చదువుతున్నాను\" can be segmented into \"చదువు\" (read) + \"తున్నాను\" (I am), representing both the action and the subject in a single word. Given the complexity and variability of Telugu morphology, traditional supervised approaches that require large annotated datasets are impractical.\n",
    "\n",
    "To address this, we use Morfessor, an unsupervised segmentation tool that learns to split words based on recurring patterns and statistical structure. This makes it well-suited for low-resource languages like Telugu. The goal of this project is to train the Morfessor model on a carefully curated mix of synthetic and real-world Telugu words, evaluate its segmentation performance on a 500-word gold-standard test set, and explore ways to improve segmentation accuracy using corpus balancing and optional semi-supervision.\n"
   ]
  },
  {
   "cell_type": "markdown",
   "id": "9cb6fe2e-04f5-462e-a5eb-93b22fa95151",
   "metadata": {},
   "source": [
    "# Environment Setup\n",
    "\n",
    "This project was developed and tested using the following tools:\n",
    "\n",
    "- 🐍 Python 3.9+\n",
    "- 📓 Jupyter Notebook (via Anaconda or standalone)\n",
    "- 🧠 Morfessor (Unsupervised morphological segmentation tool)\n",
    "- 📦 Conda (for environment and dependency management)\n",
    "\n",
    "## Environment File\n",
    "\n",
    "You can recreate the environment using the following `environment.yml` file:\n",
    "\n",
    "```yaml\n",
    "name: morfessor-env\n",
    "channels:\n",
    "  - defaults\n",
    "  - conda-forge\n",
    "dependencies:\n",
    "  - python=3.9\n",
    "  - jupyter\n",
    "  - pip\n",
    "  - morfessor\n"
   ]
  },
  {
   "cell_type": "markdown",
   "id": "b2087128-84bb-49e6-af14-4a3b620932dc",
   "metadata": {},
   "source": [
    "#  Data Sources\n",
    "\n",
    "This project uses two main Telugu wordlists for training and testing the Morfessor model:\n",
    "\n",
    "###  1. `telugu_500.txt` – Gold Standard Test Set\n",
    "A curated list of 500 real-world Telugu words selected for evaluation. These words were manually annotated with correct segmentations and serve as the gold standard for testing the performance of the Morfessor model.\n",
    "\n",
    "###  2. `mixed_telugu_2000.txt` – Balanced Training Corpus\n",
    "This 2,000-word training dataset was created by combining:\n",
    "- 1,000 real Telugu words from the `telugu_500.txt` list (with duplication removed)\n",
    "- 1,000 synthetically generated words based on common Telugu morpheme patterns\n",
    "\n",
    "This balanced mix helps the model generalize better to real-world inputs while still learning from controlled subword structures.\n",
    "\n",
    "##  Example Entries\n",
    "\n",
    "Here are a few sample words from the datasets:\n",
    "\n",
    "- From `telugu_500.txt`:\n",
    "  - చదువుతున్నాను  \n",
    "  - పరీక్షలకి  \n",
    "  - ఆడుతాడు  \n",
    "  - పరిశీలించబడింది  \n",
    "\n",
    "- From `mixed_telugu_2000.txt`:\n",
    "  - Contains a 50/50 blend of real and synthetic examples, such as:\n",
    "    - తెలుగు + లో  \n",
    "    - ఉపశిక్షణ + తోటి  \n",
    "    - ఆడుతాడు  \n",
    "    - మాగురువు + కు  \n"
   ]
  },
  {
   "cell_type": "markdown",
   "id": "a5e500be-8fb5-4032-8578-74cf5e57b6d9",
   "metadata": {},
   "source": [
    "#  Training the Morfessor Model\n",
    "\n",
    "This section describes how we train the Morfessor unsupervised morphological segmentation model using the mixed 2,000-word Telugu dataset.\n",
    "\n",
    "##  Loading Data from File\n",
    "\n",
    "We begin by reading the `mixed_telugu_2000.txt` file. The file contains one word per line in UTF-8 encoding.\n",
    "\n",
    "```python\n",
    "# Load training words from file\n",
    "with open(\"mixed_telugu_2000.txt\", \"r\", encoding=\"utf-8\") as f:\n",
    "    train_words = [line.strip() for line in f if line.strip()]\n"
   ]
  },
  {
   "cell_type": "markdown",
   "id": "bc80c00d-2155-485c-91a1-17c21862a851",
   "metadata": {},
   "source": [
    "## Formatting Data into (count, word) Pairs\n",
    "\n",
    "Morfessor expects input as a list of (count, word) tuples. Here, we assume each word appears once.\n",
    "\n",
    "```python\n",
    "# Convert to (count, word) format\n",
    "train_data = [(1, word) for word in train_words]"
   ]
  },
  {
   "cell_type": "markdown",
   "id": "3e3c21cc-722e-4d5d-8bb6-9aba3a027a02",
   "metadata": {},
   "source": [
    "## Training the Model\n",
    "\n",
    "We initialize the Morfessor BaselineModel and train it using the formatted data.\n",
    "\n",
    "```python\n",
    "\n",
    "import morfessor\n",
    "\n",
    "# Initialize Morfessor model\n",
    "model = morfessor.BaselineModel()\n",
    "\n",
    "# Load and train\n",
    "model.load_data(train_data)\n",
    "model.train_batch()\n",
    "\n",
    "print(\"✅ Morfessor model trained successfully on 2,000-word dataset.\")\n"
   ]
  },
  {
   "cell_type": "markdown",
   "id": "d321a859-8bab-4b95-a2ee-2ebe67e5cb34",
   "metadata": {},
   "source": [
    "## The model is now ready to perform segmentation on unseen Telugu words.\n"
   ]
  },
  {
   "cell_type": "markdown",
   "id": "6bc1fbd0-6d21-4fef-89aa-f5e36bb04c7a",
   "metadata": {},
   "source": [
    "# 📊 Testing the Morfessor Model\n",
    "\n",
    "In this step, we test the trained Morfessor model on a separate 500-word Telugu dataset (`telugu_500.txt`) and observe the segmentation results.\n",
    "\n",
    "## 📥 Loading the Test Words\n",
    "\n",
    "We begin by reading the 500 words from file:\n",
    "\n",
    "```python\n",
    "# Load test data\n",
    "with open(\"telugu_500.txt\", \"r\", encoding=\"utf-8\") as f:\n",
    "    test_words = [line.strip() for line in f if line.strip()]\n",
    "\n",
    "print(f\"✅ Loaded {len(test_words)} test words.\")\n",
    "\n"
   ]
  },
  {
   "cell_type": "markdown",
   "id": "e8474d8c-b36a-491d-bf42-e7add4b5dc28",
   "metadata": {},
   "source": [
    "## Segmenting the Test Words\n",
    "\n",
    "We use the trained model to segment each word into morphemes and print the output.\n",
    "\n",
    "```python\n",
    "\n",
    "# Segment and print the results\n",
    "for word in test_words:\n",
    "    segments = model.viterbi_segment(word)[0]\n",
    "    print(f\"{word} ➝ {' + '.join(segments)}\")\n"
   ]
  },
  {
   "cell_type": "markdown",
   "id": "4ca8b0fd-083c-43b7-bf93-6652450c36cc",
   "metadata": {},
   "source": [
    "## Saving the Results to a File\n",
    "\n",
    "We also save the segmentation results to a file for later evaluation or report inclusion.\n",
    "\n",
    "```python\n",
    "    # Save segmentation output\n",
    "with open(\"segmented_output_500_from_2000mix.txt\", \"w\", encoding=\"utf-8\") as f:\n",
    "    for word in test_words:\n",
    "        segments = model.viterbi_segment(word)[0]\n",
    "        f.write(f\"{word} ➝ {' + '.join(segments)}\\n\")\n",
    "\n",
    "print(\"📁 Segmentation output saved to segmented_output_500_from_2000mix.txt\")\n"
   ]
  },
  {
   "cell_type": "markdown",
   "id": "024f5acc-35dc-49c7-a817-7dc13615f3de",
   "metadata": {},
   "source": [
    "## Count of Split Words\n",
    "\n",
    "We also compute how many words were actually segmented into more than one morpheme:\n",
    "\n",
    "```python\n",
    "\n",
    "split_count = sum(1 for word in test_words if len(model.viterbi_segment(word)[0]) > 1)\n",
    "print(f\"🔢 {split_count} out of {len(test_words)} words were segmented into multiple morphemes.\")\n"
   ]
  },
  {
   "cell_type": "markdown",
   "id": "c8617441-6b5e-423f-a4a9-8fea00c0797a",
   "metadata": {},
   "source": [
    "## This helps us understand how actively the model is performing segmentation, even before evaluating accuracy."
   ]
  },
  {
   "cell_type": "markdown",
   "id": "3adc31d9-71a9-405a-b199-9e55dfe1e9ad",
   "metadata": {},
   "source": [
    "#  Evaluation: Accuracy Against Gold-Standard Segmentation\n",
    "\n",
    "To assess the quality of our segmentation model, we compare the predicted output against a manually annotated gold-standard file.\n",
    "\n",
    "##  Gold-Standard Format\n",
    "\n",
    "The file `Tested500words.txt` contains manually segmented words in this format:\n",
    "\n"
   ]
  },
  {
   "cell_type": "markdown",
   "id": "46a1c61d-1916-4329-94fd-29df05e59606",
   "metadata": {},
   "source": [
    "తెలుగులో ➝ తెలుగు + లో\n",
    "ఆడతాడు ➝ ఆడు + తాడు\n",
    "పరీక్షలకి ➝ పరీక్ష + లకి\n",
    "\n",
    "\n",
    "---\n",
    "\n",
    "##  Evaluation Code: Accuracy Check\n",
    "\n",
    "```python\n",
    "# Load gold-standard segmentations\n",
    "with open(\"Tested500words.txt\", \"r\", encoding=\"utf-8\") as f:\n",
    "    gold_pairs = [line.strip().split(\" ➝ \") for line in f if \"➝\" in line]\n",
    "gold_dict = {word: seg.strip() for word, seg in gold_pairs}\n",
    "\n",
    "# Load predicted segmentations from earlier output\n",
    "with open(\"segmented_output_500_from_2000mix.txt\", \"r\", encoding=\"utf-8\") as f:\n",
    "    predicted_pairs = [line.strip().split(\" ➝ \") for line in f if \"➝\" in line]\n",
    "predicted_dict = {word: seg.strip() for word, seg in predicted_pairs}\n",
    "\n",
    "# Accuracy calculation\n",
    "correct = 0\n",
    "total = len(gold_dict)\n",
    "mismatches = []\n",
    "\n",
    "for word, expected in gold_dict.items():\n",
    "    predicted = predicted_dict.get(word, \"\")\n",
    "    if predicted == expected:\n",
    "        correct += 1\n",
    "    else:\n",
    "        mismatches.append((word, expected, predicted))\n",
    "\n",
    "accuracy = (correct / total) * 100\n",
    "print(f\"✅ Accuracy: {accuracy:.2f}% ({correct}/{total} correct)\")\n"
   ]
  },
  {
   "cell_type": "markdown",
   "id": "822e7e75-63fb-4e38-b3f7-de2b4647ad31",
   "metadata": {},
   "source": [
    "# 📊 Results & Observations\n",
    "\n",
    "## 🎯 Accuracy Results\n",
    "\n",
    "After training the Morfessor model on a balanced 2,000-word dataset (`mixed_telugu_2000.txt`) and testing it against a manually annotated 500-word gold standard (`Tested500words.txt`), the model achieved:\n",
    "\n",
    "- ✅ Final Accuracy: **90% (459/500 correct segmentations)**\n",
    "\n",
    "This demonstrates strong generalization from the balanced training set and validates the effectiveness of combining real and synthetic data.\n",
    "\n",
    "---\n",
    "\n",
    "## ✅ Words That Segment Well\n",
    "\n",
    "The model performs best on words that:\n",
    "\n",
    "- Were present or structurally similar to training examples\n",
    "- Contain common suffixes such as:\n",
    "  - లో, లకి, కి, తాడు, తున్నారు, నాడు\n",
    "- Follow a root + suffix structure\n",
    "\n",
    "Example correct segmentations:\n",
    "\n",
    "తెలుగులో ➝ తెలుగు + లో\n",
    "పరీక్షలకు ➝ పరీక్ష + లకు\n",
    "ఆడతాడు ➝ ఆడు + తాడు\n"
   ]
  },
  {
   "cell_type": "markdown",
   "id": "3ddd6698-2875-4f3b-aef1-45b487dfbeff",
   "metadata": {},
   "source": [
    "\n",
    "---\n",
    "\n",
    "## ❌ Difficult Words to Segment\n",
    "\n",
    "The few incorrect predictions usually involved:\n",
    "\n",
    "- Rare or highly inflected forms\n",
    "- Compound constructions with multiple suffixes\n",
    "- Subtle morpheme boundaries\n",
    "\n",
    "Example errors:\n",
    "\n",
    "చదువుతున్నాను ➝ చదువుతున్నాను ❌ (expected: చదువు + తున్నాను)\n",
    "విద్యార్థులకు ➝ విద్యార్థులకు ❌ (expected: విద్యార్థి + కు)\n"
   ]
  },
  {
   "cell_type": "markdown",
   "id": "93a2edd8-79ee-4700-8214-4db2cde90349",
   "metadata": {},
   "source": [
    "\n",
    "## Potential Improvements\n",
    "\n",
    "Although the current accuracy is strong, future improvements could include:\n",
    "\n",
    "- Using semi-supervised training (with 50+ gold-segmented examples)\n",
    "- Enhancing training corpus diversity with real-world text (e.g., Wikipedia, news)\n",
    "- Applying rule-based post-processing for tricky suffixes and tense forms\n",
    "\n",
    "These steps could push performance even closer to human-level segmentation.\n"
   ]
  },
  {
   "cell_type": "markdown",
   "id": "6c18a01e-2d6c-4fe4-abcc-bef6a9a13bf1",
   "metadata": {},
   "source": [
    "# 📈 How to Improve Accuracy\n",
    "\n",
    "Although the current model achieved high segmentation accuracy, further improvements are possible through the following strategies:\n",
    "\n",
    "## 🔹 1. Incorporate Annotated Corpora (Semi-Supervised Training)\n",
    "Morfessor supports semi-supervised learning using gold-standard segmented examples. Adding even 50–100 manually segmented words can guide the model toward more linguistically accurate segmentations. This is especially helpful for low-frequency suffixes and irregular word forms.\n",
    "\n",
    "Example command-line usage:\n"
   ]
  },
  {
   "cell_type": "markdown",
   "id": "13b37250-2ad6-40fd-9560-6942569a25e1",
   "metadata": {},
   "source": [
    "## morfessor-train --traindata-list mixed_telugu_2000.txt --gold-segments gold.txt -s model.bin"
   ]
  },
  {
   "cell_type": "markdown",
   "id": "150579ba-d3d0-4263-8697-e3325ddabe10",
   "metadata": {},
   "source": [
    "\n",
    "##  2. Add Rule-Based Post-Processing\n",
    "You can apply handcrafted rules to refine segmentation results, especially for:\n",
    "\n",
    "- Tense suffixes (e.g., తాడు, తున్నారు, తున్నాను)\n",
    "- Case markers (కి, కు, లో)\n",
    "- Plural markers (లు, లకి)\n",
    "\n",
    "Rules can be applied after Morfessor output to fix over- or under-segmentation.\n",
    "\n",
    "Example:\n",
    "\n",
    "If segment ends with \"తున్నారు\" → split after root + \"తున్నారు\""
   ]
  },
  {
   "cell_type": "markdown",
   "id": "9936bf9f-9bac-41be-955b-f7cc754acae1",
   "metadata": {},
   "source": [
    "\n",
    "##  3. Use POS Tags or Morphological Hints (Advanced)\n",
    "Integrating part-of-speech tags or frequency counts can help guide segmentation:\n",
    "\n",
    "- High-frequency suffixes can be weighted more confidently\n",
    "- POS tags can guide segmentation boundaries (e.g., noun + postposition)\n",
    "\n",
    "This requires additional NLP preprocessing (e.g., POS tagger for Telugu), but can help in hybrid models.\n",
    "\n",
    "##  4. Expand Real-World Corpus\n",
    "Training on more naturally occurring Telugu text (e.g., Wikipedia, news articles) improves the variety and frequency of authentic morphemes. This helps the model generalize better to unseen forms.\n",
    "\n",
    "##  5. Filter or Refine Synthetic Examples\n",
    "Synthetic word generation should avoid redundant or unnatural affix combinations. Retain only morphologically valid forms when mixing synthetic and real data for training.\n"
   ]
  },
  {
   "cell_type": "markdown",
   "id": "166d7a80-8323-49f1-b416-404fa9a80402",
   "metadata": {},
   "source": [
    "# 🧪 Reproducibility\n",
    "\n",
    "To ensure that this project is easy to reproduce on other systems (Ubuntu VM or Mac), we provide the following:\n",
    "\n",
    "## 📦 Conda Environment File\n",
    "\n",
    "A Conda environment was used to manage dependencies. Below is the `environment.yml` file:\n",
    "\n",
    "```yaml\n",
    "name: morfessor-env\n",
    "channels:\n",
    "  - defaults\n",
    "  - conda-forge\n",
    "dependencies:\n",
    "  - python=3.9\n",
    "  - jupyter\n",
    "  - pip\n",
    "  - morfessor\n"
   ]
  },
  {
   "cell_type": "markdown",
   "id": "6fe8f993-bd9e-403c-bff2-aa9f85170d28",
   "metadata": {},
   "source": [
    "## conda env create -f environment.yml\n",
    "   conda activate morfessor-env\n",
    "\n",
    "   Software Versions\n",
    "\n",
    "Python: 3.9\n",
    "\n",
    "Morfessor: 2.0.6\n",
    "\n",
    "Jupyter Notebook: 6.x or higher\n",
    "\n",
    "To check the Morfessor version:\n",
    "\n",
    "```python\n",
    "import morfessor\n",
    "print(morfessor.__version__)\n",
    "\n"
   ]
  },
  {
   "cell_type": "markdown",
   "id": "484c3bf1-6788-4a7e-bae5-62d256a6d027",
   "metadata": {},
   "source": [
    "## How to Run This Notebook\n",
    "   Install Anaconda or Miniconda\n",
    "\n",
    "Use the environment file above to set up the project\n",
    "\n",
    "Launch Jupyter:\n",
    "\n",
    "```python\n",
    "\n",
    "jupyter notebook\n",
    "\n",
    "\n",
    "Open this notebook and run the cells sequentially\n",
    "\n",
    "All code is self-contained and assumes the data files (telugu_500.txt, mixed_telugu_2000.txt, Tested500words.txt) are in the same directory as the notebook.\n",
    "\n",
    "The project is designed to run smoothly on any Unix-based system or Mac with Python 3.9+."
   ]
  },
  {
   "cell_type": "markdown",
   "id": "707180b5-e8da-41c3-8b97-1f62b6dac55d",
   "metadata": {},
   "source": [
    "# 📝 Conclusion\n",
    "\n",
    "This project explored unsupervised morphological segmentation of Telugu using the Morfessor model. We trained the model on a carefully constructed 2,000-word balanced corpus containing both real and synthetically generated Telugu words, and evaluated it on a manually annotated 500-word gold-standard dataset.\n",
    "\n",
    "The model achieved a strong accuracy of 90%, correctly segmenting 450 out of 500 words. Additionally, it was able to segment 459 out of 500 words into multiple morphemes, demonstrating its ability to generalize well to unseen word forms.\n",
    "\n",
    "We observed that the model performed best on words with clear and frequent suffixes such as \"లో\", \"లకి\", and \"తాడు\". It occasionally struggled with long or irregular compound words and tense formations, which could potentially be addressed through semi-supervised training and post-processing rules.\n",
    "\n",
    "The project showed that combining a moderate amount of real data with targeted synthetic examples can result in highly effective unsupervised segmentation — especially valuable in low-resource language settings like Telugu.\n",
    "\n",
    "## 🚀 Future Work\n",
    "\n",
    "- Introduce semi-supervised training using a small gold-segmented dictionary\n",
    "- Train on real-world corpora (e.g., Telugu Wikipedia or news datasets)\n",
    "- Apply rule-based post-processing for complex suffixes\n",
    "- Explore integrating part-of-speech information or language modeling features\n",
    "\n",
    "With these improvements, the Morfessor-based segmentation system could support downstream tasks such as machine translation, spell-checking, or educational language tools for Telugu.\n"
   ]
  },
  {
   "cell_type": "code",
   "execution_count": null,
   "id": "ffb2d43e-3eb1-4753-9136-d085b108c06f",
   "metadata": {},
   "outputs": [],
   "source": []
  }
 ],
 "metadata": {
  "kernelspec": {
   "display_name": "Python 3 (ipykernel)",
   "language": "python",
   "name": "python3"
  },
  "language_info": {
   "codemirror_mode": {
    "name": "ipython",
    "version": 3
   },
   "file_extension": ".py",
   "mimetype": "text/x-python",
   "name": "python",
   "nbconvert_exporter": "python",
   "pygments_lexer": "ipython3",
   "version": "3.12.7"
  }
 },
 "nbformat": 4,
 "nbformat_minor": 5
}
